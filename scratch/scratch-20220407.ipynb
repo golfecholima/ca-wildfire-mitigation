{
 "cells": [
  {
   "cell_type": "code",
   "execution_count": 3,
   "id": "c2b9e3af-2986-4d63-a7b4-fa318086f1bb",
   "metadata": {},
   "outputs": [],
   "source": [
    "import pandas as pd\n",
    "import numpy as np\n",
    "import geopandas as gpd\n",
    "from shapely.geometry import polygon\n",
    "from shapely.validation import make_valid\n",
    "from shapely.validation import explain_validity\n",
    "import fiona\n",
    "import rtree\n",
    "import pyproj\n"
   ]
  },
  {
   "cell_type": "markdown",
   "id": "920eb8d4",
   "metadata": {},
   "source": [
    "## COME BACK TO THESE WHEN THINGS GO WRONG"
   ]
  },
  {
   "cell_type": "code",
   "execution_count": 26,
   "id": "e9ba1b23-8021-4673-ae12-76d70550d5ce",
   "metadata": {},
   "outputs": [],
   "source": [
    "# File paths\n",
    "z_usfs_th = '../data/source/usfs/S_USA.Activity_TimberHarvest.gdb.zip'\n",
    "z_usfs_hft = '../data/source/usfs/S_USA.Activity_HazFuelTrt_PL.gdb.zip'\n",
    "calfire_th = '../data/source/calfire/ds816/ds816.gdb'\n",
    "calfire_ntmp = '../data/source/calfire/CAL_FIRE_Nonindustrial_Timber_Management_Plans_and_Notices_TA83.geojson'\n",
    "z_calfire_rx = '../data/source/calfire/California_Wildland_Fire_Perimeters_(All)/California_Wildland_Fire_Perimeters_(All).shp'\n",
    "calfire_calmapper = '../data/source/calfire/FuelTreatments_CALFIRE22_1_public.gdb.zip'\n",
    "z_census_states = '../data/source/census/tl_2020_us_state.zip'\n",
    "z_census_counties = '../data/source/census/tl_2021_us_county.zip'"
   ]
  },
  {
   "cell_type": "code",
   "execution_count": 32,
   "id": "1b2989e8-c071-4177-a882-dbc7dc6f3571",
   "metadata": {},
   "outputs": [],
   "source": [
    "# Geodataframes\n",
    "\n",
    "## Raw\n",
    "usfs_th_raw_df = gpd.read_file(z_usfs_th) # Forest Service timber harvest\n",
    "usfs_hft_raw_df = gpd.read_file(z_usfs_hft) # Forest Service hazardous fuel treatment\n",
    "calfire_th_raw_df = gpd.read_file(calfire_th) # CalFire timber harvest\n",
    "calfire_th_raw_df['ID'] = calfire_th_raw_df.index + 1 #For some reason the OBJECTID column wasn't showing up but it is a sequential count, so this hacky index workaround should work.\n",
    "calfire_ntmp_raw_df = gpd.read_file(calfire_ntmp) # CalFire non-industrial timber management plans\n",
    "calfire_rx_raw_df = gpd.read_file(z_calfire_rx) # CalFire prescribed burns\n",
    "calfire_calmapper_raw_df = gpd.read_file(calfire_calmapper) # CalFire CALMAPPER (California Management Activity Project Planning and Event Reporter)\n",
    "states_raw_df = gpd.read_file(z_census_states)\n",
    "counties_raw_df = gpd.read_file(z_census_counties)\n",
    "\n",
    "# TO DO\n",
    "## [DONE] GOTTA VERIFY RX BECAUSE PREVIOUS URL RETURNED 404\n",
    "## [DONE] GET calmapper set\n",
    "## Sort out which columns map to which in Clarke's\n",
    "## Map intensity\n",
    "## Spot check .head() resutls against QGIS?\n"
   ]
  },
  {
   "cell_type": "code",
   "execution_count": 82,
   "id": "c6264deb-e845-4cec-89eb-95882b43d789",
   "metadata": {},
   "outputs": [],
   "source": [
    "## Working copies\n",
    "usfs_th_df = usfs_th_raw_df.copy()\n",
    "usfs_hft_df = usfs_hft_raw_df.copy()\n",
    "calfire_th_df = calfire_th_raw_df.copy()\n",
    "calfire_ntmp_df = calfire_ntmp_raw_df.copy()\n",
    "calfire_rx_df = calfire_rx_raw_df.copy()\n",
    "calfire_calmapper_df = calfire_calmapper_raw_df.copy()\n",
    "states_df = states_raw_df.copy()\n",
    "counties_df = counties_raw_df.copy()\n",
    "\n",
    "## Select only Calif. projects from USFS sets\n",
    "usfs_th_ca_df = usfs_th_df.loc[usfs_th_df['STATE_ABBR'] == 'CA'].copy()\n",
    "usfs_hft_ca_df = usfs_hft_df.loc[usfs_hft_df['STATE_ABBR'] == 'CA'].copy()\n",
    "\n",
    "## Select only Calif. state and county shapes\n",
    "ca_df = states_df[states_df['STUSPS'] == 'CA'].copy()\n",
    "ca_counties_df = counties_df[counties_df['STATEFP'] == '06'].copy()\n"
   ]
  },
  {
   "cell_type": "markdown",
   "id": "01aabaa5",
   "metadata": {},
   "source": [
    "## SOME CLEANINGS, ROW COUNTS AND BASIC SUMS"
   ]
  },
  {
   "cell_type": "code",
   "execution_count": 83,
   "id": "05a06087-c2a7-4b48-bf4c-688028d41a2a",
   "metadata": {},
   "outputs": [],
   "source": [
    "# RENAME/MUNGE COLUMNS TO MATCH ACROSS DATASETS\n",
    "\n",
    "usfs_th_ca_df.rename(columns = {'SUID':'ID', 'ACTIVITY_NAME':'SILV1', 'TREATMENT_TYPE':'SILV2', 'FY_PLANNED':'FY', 'FY_COMPLETED':'COMPLETED', 'OWNERSHIP_DESC':'OWNER', 'NBR_UNITS_ACCOMPLISHED':'ACRES'}, inplace = True)\n",
    "usfs_th_ca_df['FY'] = pd.to_datetime(usfs_th_ca_df['FY'], format='%Y', errors='coerce')\n",
    "usfs_th_ca_df['COMPLETED'] = pd.to_datetime(usfs_th_ca_df['COMPLETED'], format='%Y', errors='coerce')\n",
    "usfs_th_ca_df['STATUS'] = 'usfs_th'\n",
    "\n",
    "usfs_hft_ca_df.rename(columns = {'SUID':'ID', 'ACTIVITY':'SILV1', 'TREATMENT_TYPE':'SILV2', 'FISCAL_YEAR_PLANNED':'FY', 'FISCAL_YEAR_COMPLETED':'COMPLETED', 'FS_UNIT_NAME':'OWNER', 'NBR_UNITS_ACCOMPLISHED':'ACRES'}, inplace = True)\n",
    "usfs_hft_ca_df['FY'] = pd.to_datetime(usfs_hft_ca_df['FY'], format='%Y', errors='coerce')\n",
    "usfs_hft_ca_df['COMPLETED'] = pd.to_datetime(usfs_hft_ca_df['COMPLETED'], format='%Y', errors='coerce')\n",
    "usfs_hft_ca_df['STATUS'] = 'usfs_hft'\n",
    "\n",
    "calfire_th_df.rename(columns = {'SILVI_1':'SILV1', 'SILVI_CAT':'SILV2', 'LANDOWNER':'OWNER', 'GIS_ACRES':'ACRES'}, inplace = True)\n",
    "calfire_th_df['FY'] = pd.to_datetime(calfire_th_df['APPROVED'].str[:4], format='%Y', errors='coerce')\n",
    "calfire_th_df['COMPLETED'] = pd.to_datetime(calfire_th_df['COMPLETED'].str[:4], format='%Y', errors='coerce')\n",
    "calfire_th_df['STATUS'] = 'private'\n",
    "\n",
    "calfire_ntmp_df.rename(columns = {'OBJECTID':'ID', 'SILVI_1':'SILV1', 'SILVI_CAT':'SILV2', 'LANDOWNER':'OWNER', 'GIS_ACRES':'ACRES'}, inplace = True)\n",
    "calfire_ntmp_df['FY'] = pd.to_datetime(calfire_ntmp_df['APPROVED'].str[:4], format='%Y', errors='coerce')\n",
    "calfire_ntmp_df['COMPLETED'] = pd.to_datetime(calfire_ntmp_df['CANCELLED'].str[:4], format='%Y', errors='coerce') #Clarke uses cancelled as completed here. I think we should probalby just say that completion is not tracked here ... which seems to be the case. Either way this is probably not that big of a deal because this is a small subset of the overall total, I think ...\n",
    "calfire_ntmp_df['STATUS'] = 'private'\n"
   ]
  },
  {
   "cell_type": "code",
   "execution_count": 84,
   "id": "878bda76-fb3e-474b-a19f-7afdc0c59079",
   "metadata": {},
   "outputs": [
    {
     "name": "stdout",
     "output_type": "stream",
     "text": [
      "80446\n",
      "82435\n",
      "74193\n",
      "5905\n"
     ]
    }
   ],
   "source": [
    "# SELECT SEVEN COLUMNS FOR A CLEANER SUBSET \n",
    "usfs_th_ca_clean_df = usfs_th_ca_df.loc[:, ('ID', 'SILV1', 'SILV2', 'FY', 'COMPLETED', 'OWNER', 'ACRES')]\n",
    "usfs_hft_ca_clean_df = usfs_hft_ca_df.loc[:, ('ID', 'SILV1', 'SILV2', 'FY', 'COMPLETED', 'OWNER', 'ACRES')]\n",
    "calfire_th_clean_df = calfire_th_df.loc[:, ('ID', 'SILV1', 'SILV2', 'FY', 'COMPLETED', 'OWNER', 'ACRES')]\n",
    "calfire_ntmp_clean_df = calfire_ntmp_df.loc[:, ('ID', 'SILV1', 'SILV2', 'FY', 'COMPLETED', 'OWNER', 'ACRES')]\n",
    "print(len(usfs_th_ca_clean_df.index))\n",
    "print(len(usfs_hft_ca_clean_df.index))\n",
    "print(len(calfire_th_clean_df.index))\n",
    "print(len(calfire_ntmp_clean_df.index))"
   ]
  },
  {
   "cell_type": "code",
   "execution_count": 85,
   "id": "f9a64494-0fa0-4b80-8571-9a0ac61b4fe1",
   "metadata": {
    "tags": []
   },
   "outputs": [
    {
     "name": "stdout",
     "output_type": "stream",
     "text": [
      "74193\n",
      "35563\n"
     ]
    }
   ],
   "source": [
    "# FILTER CALFIRE FOR ONLY COMPLETED WORK \n",
    "calfire_th_onlycompleted_df = calfire_th_df[calfire_th_raw_df['PLAN_STAT'] == 'Completed'].copy()\n",
    "calfire_th_onlycompleted_clean_df = calfire_th_onlycompleted_df.loc[:, ('ID', 'SILV1', 'SILV2', 'FY', 'COMPLETED', 'OWNER', 'ACRES')]\n",
    "print(len(calfire_th_df.index))\n",
    "print(len(calfire_th_onlycompleted_clean_df.index))"
   ]
  },
  {
   "cell_type": "code",
   "execution_count": 119,
   "id": "8e329cc0-e24b-454d-a248-ec80696b766d",
   "metadata": {
    "tags": []
   },
   "outputs": [
    {
     "name": "stdout",
     "output_type": "stream",
     "text": [
      "787170\n",
      "68514\n"
     ]
    }
   ],
   "source": [
    "# DEDUPE USFS timber harvest \n",
    "usfs_th_ca_dedupe_df = usfs_th_ca_df.drop_duplicates(['ID', 'GIS_ACRES']).copy()\n",
    "usfs_th_ca_dedupe_clean_df = usfs_th_ca_dedupe_df.loc[:, ('ID', 'SILV1', 'SILV2', 'FY', 'COMPLETED', 'OWNER', 'ACRES')]\n",
    "print(len(usfs_th_df.index))\n",
    "print(len(usfs_th_ca_dedupe_clean_df.index))"
   ]
  },
  {
   "cell_type": "code",
   "execution_count": 120,
   "id": "ad0c6b9d-2803-46d6-95ac-566e52b297aa",
   "metadata": {},
   "outputs": [
    {
     "name": "stdout",
     "output_type": "stream",
     "text": [
      "480353\n",
      "40416\n"
     ]
    }
   ],
   "source": [
    "# DEDUPE USFS hazardous fuel treatments\n",
    "usfs_hft_ca_dedupe_df = usfs_hft_ca_df.drop_duplicates(['ID', 'GIS_ACRES']).copy()\n",
    "usfs_hft_ca_dedupe_clean_df = usfs_hft_ca_dedupe_df.loc[:, ('ID', 'SILV1', 'SILV2', 'FY', 'COMPLETED', 'OWNER', 'ACRES')]\n",
    "print(len(usfs_hft_df.index))\n",
    "print(len(usfs_hft_ca_dedupe_clean_df.index))"
   ]
  },
  {
   "cell_type": "code",
   "execution_count": 121,
   "id": "2d56714f-d097-4f64-ae78-6886042f34b7",
   "metadata": {},
   "outputs": [
    {
     "name": "stdout",
     "output_type": "stream",
     "text": [
      "SUM of usfs_th_ca_clean_df[\"ACRES\"] = 2680494\n",
      "SUM of usfs_hft_ca_clean_df[\"ACRES\"] = 4481875\n",
      "SUM of usfs_th_ca_dedupe_clean_df[\"ACRES\"] = 2229560\n",
      "SUM of usfs_hft_ca_dedupe_clean_df[\"ACRES\"] = 3215359\n",
      "SUM of calfire_th_df[\"ACRES\"] = 1592893\n",
      "SUM of calfire_th_onlycompleted_df[\"ACRES\"] = 756736\n",
      "SUM of calfire_ntmp_clean_df[\"ACRES\"] = 378542\n"
     ]
    }
   ],
   "source": [
    "# SUM ACRES\n",
    "print('SUM of usfs_th_ca_clean_df[\"ACRES\"] = ' + str(round(usfs_th_ca_clean_df['ACRES'].sum()))) # ACTIVITY ACRES (i.e., with multiple treatments on same terrain)\n",
    "print('SUM of usfs_hft_ca_clean_df[\"ACRES\"] = ' + str(round(usfs_hft_ca_clean_df['ACRES'].sum()))) # ACTIVITY ACRES (i.e., with multiple treatments on same terrain)\n",
    "print('SUM of usfs_th_ca_dedupe_clean_df[\"ACRES\"] = ' + str(round(usfs_th_ca_dedupe_clean_df['ACRES'].sum())))\n",
    "print('SUM of usfs_hft_ca_dedupe_clean_df[\"ACRES\"] = ' + str(round(usfs_hft_ca_dedupe_clean_df['ACRES'].sum())))\n",
    "print('SUM of calfire_th_df[\"ACRES\"] = ' + str(round(calfire_th_df['ACRES'].sum())))\n",
    "print('SUM of calfire_th_onlycompleted_df[\"ACRES\"] = ' + str(round(calfire_th_onlycompleted_df['ACRES'].sum())))\n",
    "print('SUM of calfire_ntmp_clean_df[\"ACRES\"] = ' + str(round(calfire_ntmp_clean_df['ACRES'].sum())))"
   ]
  },
  {
   "cell_type": "markdown",
   "id": "ad60e222",
   "metadata": {},
   "source": [
    "## ACTIVITY ACRES (PRESERVING DUPLICATION) and PLANNED ACRES"
   ]
  },
  {
   "cell_type": "code",
   "execution_count": 101,
   "id": "b4125d49-4cd9-4db1-acc3-e599f0f21f5a",
   "metadata": {},
   "outputs": [
    {
     "name": "stdout",
     "output_type": "stream",
     "text": [
      "162881\n",
      "SUM of usfs_th_hft_ca_clean_df[\"ACRES\"] = 7162369\n"
     ]
    }
   ],
   "source": [
    "# SUM ACRES OF BOTH USFS DATASETS \n",
    "usfs_th_hft_ca_clean_df = pd.concat([usfs_hft_ca_clean_df, usfs_th_ca_clean_df])\n",
    "print(len(usfs_th_hft_ca_clean_df.index))\n",
    "print('SUM of usfs_th_hft_ca_clean_df[\"ACRES\"] = ' + str(round(usfs_th_hft_ca_clean_df['ACRES'].sum())))"
   ]
  },
  {
   "cell_type": "code",
   "execution_count": 102,
   "id": "12d977aa",
   "metadata": {},
   "outputs": [
    {
     "name": "stdout",
     "output_type": "stream",
     "text": [
      "80098\n",
      "SUM of calfire_th_ntmp_clean_df[\"ACRES\"] = 1971436\n"
     ]
    }
   ],
   "source": [
    "# SUM ACRES OF BOTH CALFIRE DATASETS \n",
    "calfire_th_ntmp_clean_df = pd.concat([calfire_th_clean_df, calfire_ntmp_clean_df])\n",
    "print(len(calfire_th_ntmp_clean_df.index))\n",
    "print('SUM of calfire_th_ntmp_clean_df[\"ACRES\"] = ' + str(round(calfire_th_ntmp_clean_df['ACRES'].sum())))"
   ]
  },
  {
   "cell_type": "code",
   "execution_count": 103,
   "id": "f565897b",
   "metadata": {},
   "outputs": [
    {
     "name": "stdout",
     "output_type": "stream",
     "text": [
      "145088\n",
      "SUM of usfs_th_hft_ca_clean_84_to_pres_df[\"ACRES\"] = 6763547\n",
      "79907\n",
      "SUM of calfire_th_ntmp_clean_84_to_pres_df[\"ACRES\"] = 1962800\n"
     ]
    }
   ],
   "source": [
    "# LIMIT TO ACTIVITY AFTER 1984\n",
    "usfs_th_hft_ca_clean_84_to_pres_df = usfs_th_hft_ca_clean_df[usfs_th_hft_ca_clean_df['FY'] >= '1984-01-01']\n",
    "print(len(usfs_th_hft_ca_clean_84_to_pres_df.index))\n",
    "print('SUM of usfs_th_hft_ca_clean_84_to_pres_df[\"ACRES\"] = ' + str(round(usfs_th_hft_ca_clean_84_to_pres_df['ACRES'].sum())))\n",
    "calfire_th_ntmp_clean_84_to_pres_df = calfire_th_ntmp_clean_df[calfire_th_ntmp_clean_df['FY'] >= '1984-01-01']\n",
    "print(len(calfire_th_ntmp_clean_84_to_pres_df.index))\n",
    "print('SUM of calfire_th_ntmp_clean_84_to_pres_df[\"ACRES\"] = ' + str(round(calfire_th_ntmp_clean_84_to_pres_df['ACRES'].sum())))"
   ]
  },
  {
   "cell_type": "code",
   "execution_count": 113,
   "id": "1030e87c",
   "metadata": {},
   "outputs": [
    {
     "name": "stdout",
     "output_type": "stream",
     "text": [
      "38263\n",
      "SUM of calfire_th_ntmp_clean_84_to_pres_completed_df[\"ACRES\"] = 819384\n"
     ]
    }
   ],
   "source": [
    "# LIMIT CALFIRE TO COMPLETED\n",
    "calfire_th_ntmp_clean_84_to_pres_completed_df = calfire_th_ntmp_clean_84_to_pres_df[calfire_th_ntmp_clean_84_to_pres_df['COMPLETED'] >= '1984-01-01']\n",
    "print(len(calfire_th_ntmp_clean_84_to_pres_completed_df.index))\n",
    "print('SUM of calfire_th_ntmp_clean_84_to_pres_completed_df[\"ACRES\"] = ' + str(round(calfire_th_ntmp_clean_84_to_pres_completed_df['ACRES'].sum())))"
   ]
  },
  {
   "cell_type": "code",
   "execution_count": 105,
   "id": "83aef899",
   "metadata": {},
   "outputs": [
    {
     "name": "stdout",
     "output_type": "stream",
     "text": [
      "224995\n",
      "SUM of usfs_th_hft_ca_calfire_th_ntmp_clean_84_to_pres_df[\"ACRES\"] = 8726346\n",
      "143283\n",
      "SUM of usfs_th_hft_ca_calfire_th_ntmp_clean_84_to_pres_completed_df[\"ACRES\"] = 6770983\n"
     ]
    }
   ],
   "source": [
    "# CONCATENATE USFS + CALFIRE DATA AND FILTER FOR COMPLETED\n",
    "usfs_th_hft_ca_calfire_th_ntmp_clean_84_to_pres_df = pd.concat([usfs_th_hft_ca_clean_84_to_pres_df, calfire_th_ntmp_clean_84_to_pres_df])\n",
    "print(len(usfs_th_hft_ca_calfire_th_ntmp_clean_84_to_pres_df.index))\n",
    "print('SUM of usfs_th_hft_ca_calfire_th_ntmp_clean_84_to_pres_df[\"ACRES\"] = ' + str(round(usfs_th_hft_ca_calfire_th_ntmp_clean_84_to_pres_df['ACRES'].sum())))\n",
    "usfs_th_hft_ca_calfire_th_ntmp_clean_84_to_pres_completed_df = usfs_th_hft_ca_calfire_th_ntmp_clean_84_to_pres_df[usfs_th_hft_ca_calfire_th_ntmp_clean_84_to_pres_df['COMPLETED'] >= '1984-01-01']\n",
    "print(len(usfs_th_hft_ca_calfire_th_ntmp_clean_84_to_pres_completed_df.index))\n",
    "print('SUM of usfs_th_hft_ca_calfire_th_ntmp_clean_84_to_pres_completed_df[\"ACRES\"] = ' + str(round(usfs_th_hft_ca_calfire_th_ntmp_clean_84_to_pres_completed_df['ACRES'].sum())))"
   ]
  },
  {
   "cell_type": "code",
   "execution_count": 106,
   "id": "80c6c150",
   "metadata": {},
   "outputs": [
    {
     "name": "stdout",
     "output_type": "stream",
     "text": [
      "81712\n",
      "SUM of usfs_th_hft_ca_calfire_th_ntmp_clean_84_to_pres_planned_df[\"ACRES\"] = 1955363\n"
     ]
    }
   ],
   "source": [
    "# FILTER FOR NOT-YET-COMPLETED, \"PLANNED\" ACRES\n",
    "usfs_th_hft_ca_calfire_th_ntmp_clean_84_to_pres_planned_df = usfs_th_hft_ca_calfire_th_ntmp_clean_84_to_pres_df[usfs_th_hft_ca_calfire_th_ntmp_clean_84_to_pres_df['COMPLETED'].isna()]\n",
    "print(len(usfs_th_hft_ca_calfire_th_ntmp_clean_84_to_pres_planned_df.index))\n",
    "print('SUM of usfs_th_hft_ca_calfire_th_ntmp_clean_84_to_pres_planned_df[\"ACRES\"] = ' + str(round(usfs_th_hft_ca_calfire_th_ntmp_clean_84_to_pres_planned_df['ACRES'].sum())))"
   ]
  },
  {
   "cell_type": "markdown",
   "id": "4bfd19b1",
   "metadata": {},
   "source": [
    "## GETTING TO FOOTPRINT ACRES"
   ]
  },
  {
   "cell_type": "code",
   "execution_count": 122,
   "id": "1618132c",
   "metadata": {},
   "outputs": [
    {
     "name": "stdout",
     "output_type": "stream",
     "text": [
      "162881\n",
      "SUM of usfs_th_hft_ca_clean_df[\"ACRES\"] = 7162369\n",
      "106315\n",
      "SUM of usfs_th_hft_ca_clean_deduped_df[\"ACRES\"] = 5327766\n"
     ]
    }
   ],
   "source": [
    "# Remove inter-duplication across USFS timber harvest and haz fuels\n",
    "usfs_th_hft_ca_clean_deduped_df = usfs_th_hft_ca_clean_df.drop_duplicates(['ID', 'ACRES']).copy()\n",
    "print(len(usfs_th_hft_ca_clean_df.index))\n",
    "print('SUM of usfs_th_hft_ca_clean_df[\"ACRES\"] = ' + str(round(usfs_th_hft_ca_clean_df['ACRES'].sum())))\n",
    "print(len(usfs_th_hft_ca_clean_deduped_df.index))\n",
    "print('SUM of usfs_th_hft_ca_clean_deduped_df[\"ACRES\"] = ' + str(round(usfs_th_hft_ca_clean_deduped_df['ACRES'].sum())))"
   ]
  },
  {
   "cell_type": "code",
   "execution_count": 123,
   "id": "fc3ba9eb",
   "metadata": {},
   "outputs": [
    {
     "name": "stdout",
     "output_type": "stream",
     "text": [
      "90129\n",
      "SUM of usfs_th_hft_ca_clean_deduped_84_to_pres_df[\"ACRES\"] = 4962535\n"
     ]
    }
   ],
   "source": [
    "# Filter 1984 to present\n",
    "usfs_th_hft_ca_clean_deduped_84_to_pres_df = usfs_th_hft_ca_clean_deduped_df[usfs_th_hft_ca_clean_deduped_df['FY'] >= '1984-01-01']\n",
    "print(len(usfs_th_hft_ca_clean_deduped_84_to_pres_df.index))\n",
    "print('SUM of usfs_th_hft_ca_clean_deduped_84_to_pres_df[\"ACRES\"] = ' + str(round(usfs_th_hft_ca_clean_deduped_84_to_pres_df['ACRES'].sum())))"
   ]
  },
  {
   "cell_type": "code",
   "execution_count": 124,
   "id": "43727bbc",
   "metadata": {},
   "outputs": [
    {
     "name": "stdout",
     "output_type": "stream",
     "text": [
      "79907\n",
      "SUM of calfire_th_ntmp_clean_84_to_pres_df[\"ACRES\"] = 1962800\n",
      "38263\n",
      "SUM of calfire_th_ntmp_clean_84_to_pres_completed_df[\"ACRES\"] = 819384\n"
     ]
    }
   ],
   "source": [
    "# No deduping in CalFire data sets\n",
    "## At this point Clarke does this stuff that I did earlier/above because it seemed to go better with the other stuff of the same filterings ...\n",
    "print(len(calfire_th_ntmp_clean_84_to_pres_df.index))\n",
    "print('SUM of calfire_th_ntmp_clean_84_to_pres_df[\"ACRES\"] = ' + str(round(calfire_th_ntmp_clean_84_to_pres_df['ACRES'].sum())))\n",
    "print(len(calfire_th_ntmp_clean_84_to_pres_completed_df.index))\n",
    "print('SUM of calfire_th_ntmp_clean_84_to_pres_completed_df[\"ACRES\"] = ' + str(round(calfire_th_ntmp_clean_84_to_pres_completed_df['ACRES'].sum())))\n",
    "\n",
    "# THESE NUMBERS ARE VERY VERY DIFFERENT FROM CLARKE'S ... CHECK CHECK ... I THINK IT MIGHT HAVE SOMETHING TO DO WITH HOW I'M CONVERTING THE DATE INFO STRING TO DATETIME FORMAT"
   ]
  },
  {
   "cell_type": "code",
   "execution_count": 117,
   "id": "6e9dc303",
   "metadata": {},
   "outputs": [
    {
     "name": "stdout",
     "output_type": "stream",
     "text": [
      "170036\n",
      "SUM of usfs_th_hft_ca_deduped_calfire_th_ntmp_clean_84_to_pres_df[\"ACRES\"] = 6925335\n"
     ]
    }
   ],
   "source": [
    "# Join USFS deduped sets and CalFire\n",
    "usfs_th_hft_ca_deduped_calfire_th_ntmp_clean_84_to_pres_df = pd.concat([usfs_th_hft_ca_clean_deduped_84_to_pres_df, calfire_th_ntmp_clean_84_to_pres_df])\n",
    "print(len(usfs_th_hft_ca_deduped_calfire_th_ntmp_clean_84_to_pres_df.index))\n",
    "print('SUM of usfs_th_hft_ca_deduped_calfire_th_ntmp_clean_84_to_pres_df[\"ACRES\"] = ' + str(round(usfs_th_hft_ca_deduped_calfire_th_ntmp_clean_84_to_pres_df['ACRES'].sum())))"
   ]
  },
  {
   "cell_type": "code",
   "execution_count": 126,
   "id": "e305565d",
   "metadata": {},
   "outputs": [
    {
     "name": "stdout",
     "output_type": "stream",
     "text": [
      "107318\n",
      "SUM of usfs_th_hft_ca_deduped_calfire_th_ntmp_clean_84_to_pres_completed_df[\"ACRES\"] = 5422981\n"
     ]
    }
   ],
   "source": [
    "# Filter above to just completed acres\n",
    "usfs_th_hft_ca_deduped_calfire_th_ntmp_clean_84_to_pres_completed_df = usfs_th_hft_ca_deduped_calfire_th_ntmp_clean_84_to_pres_df[usfs_th_hft_ca_deduped_calfire_th_ntmp_clean_84_to_pres_df['COMPLETED'] >= '1984-01-01']\n",
    "print(len(usfs_th_hft_ca_deduped_calfire_th_ntmp_clean_84_to_pres_completed_df.index))\n",
    "print('SUM of usfs_th_hft_ca_deduped_calfire_th_ntmp_clean_84_to_pres_completed_df[\"ACRES\"] = ' + str(round(usfs_th_hft_ca_deduped_calfire_th_ntmp_clean_84_to_pres_completed_df['ACRES'].sum())))"
   ]
  },
  {
   "cell_type": "code",
   "execution_count": 128,
   "id": "244cecf6",
   "metadata": {},
   "outputs": [
    {
     "name": "stdout",
     "output_type": "stream",
     "text": [
      "62718\n",
      "SUM of usfs_th_hft_ca_deduped_calfire_th_ntmp_clean_84_to_pres_planned_df[\"ACRES\"] = 1502354\n"
     ]
    }
   ],
   "source": [
    "# Preserve planned acres\n",
    "usfs_th_hft_ca_deduped_calfire_th_ntmp_clean_84_to_pres_planned_df = usfs_th_hft_ca_deduped_calfire_th_ntmp_clean_84_to_pres_df[usfs_th_hft_ca_deduped_calfire_th_ntmp_clean_84_to_pres_df['COMPLETED'].isna()]\n",
    "print(len(usfs_th_hft_ca_deduped_calfire_th_ntmp_clean_84_to_pres_planned_df.index))\n",
    "print('SUM of usfs_th_hft_ca_deduped_calfire_th_ntmp_clean_84_to_pres_planned_df[\"ACRES\"] = ' + str(round(usfs_th_hft_ca_deduped_calfire_th_ntmp_clean_84_to_pres_planned_df['ACRES'].sum())))"
   ]
  },
  {
   "cell_type": "code",
   "execution_count": 136,
   "id": "a622b92a-6220-4908-9051-a65d0a3a8475",
   "metadata": {},
   "outputs": [],
   "source": [
    "# This brings us up to line 273 in Clarke's R file: CECS_DataCleaning_7June2021.R"
   ]
  },
  {
   "cell_type": "code",
   "execution_count": 137,
   "id": "3b06d4ac",
   "metadata": {},
   "outputs": [
    {
     "data": {
      "text/plain": [
       "COMPLETED\n",
       "1984-01-01     26315.0\n",
       "1985-01-01     33871.0\n",
       "1986-01-01     51006.0\n",
       "1987-01-01     50607.0\n",
       "1988-01-01     73154.0\n",
       "1989-01-01     69834.0\n",
       "1990-01-01    130631.0\n",
       "1991-01-01     97457.0\n",
       "1992-01-01    129840.0\n",
       "1993-01-01     76738.0\n",
       "1994-01-01     77057.0\n",
       "1995-01-01     55732.0\n",
       "1996-01-01     75010.0\n",
       "1997-01-01     64001.0\n",
       "1998-01-01     98266.0\n",
       "1999-01-01     46408.0\n",
       "2000-01-01     46573.0\n",
       "2001-01-01     35154.0\n",
       "2002-01-01     62202.0\n",
       "2003-01-01    114937.0\n",
       "2004-01-01    113165.0\n",
       "2005-01-01     95582.0\n",
       "2006-01-01    105221.0\n",
       "2007-01-01    145863.0\n",
       "2008-01-01    128640.0\n",
       "2009-01-01    175482.0\n",
       "2010-01-01    130927.0\n",
       "2011-01-01    158174.0\n",
       "2012-01-01    210080.0\n",
       "2013-01-01    203708.0\n",
       "2014-01-01    259295.0\n",
       "2015-01-01    189991.0\n",
       "2016-01-01    495497.0\n",
       "2017-01-01    414649.0\n",
       "2018-01-01    362563.0\n",
       "2019-01-01    175963.0\n",
       "2020-01-01    249647.0\n",
       "2021-01-01    385822.0\n",
       "2022-01-01      7922.0\n",
       "Name: ACRES, dtype: float64"
      ]
     },
     "execution_count": 137,
     "metadata": {},
     "output_type": "execute_result"
    }
   ],
   "source": [
    "# Completed footprint acres by year, not yet including calfire_calmapper_df, calfire_rx_df\n",
    "round(usfs_th_hft_ca_deduped_calfire_th_ntmp_clean_84_to_pres_completed_df.groupby(['COMPLETED'])['ACRES'].sum(),0)"
   ]
  },
  {
   "cell_type": "code",
   "execution_count": 138,
   "id": "b19c849b",
   "metadata": {},
   "outputs": [
    {
     "data": {
      "text/plain": [
       "COMPLETED\n",
       "1984-01-01     29151.0\n",
       "1985-01-01     37316.0\n",
       "1986-01-01     55677.0\n",
       "1987-01-01     56031.0\n",
       "1988-01-01     79717.0\n",
       "1989-01-01     79807.0\n",
       "1990-01-01    151181.0\n",
       "1991-01-01    102576.0\n",
       "1992-01-01    139117.0\n",
       "1993-01-01     81699.0\n",
       "1994-01-01     79783.0\n",
       "1995-01-01     64800.0\n",
       "1996-01-01     85462.0\n",
       "1997-01-01     74368.0\n",
       "1998-01-01    115439.0\n",
       "1999-01-01     55166.0\n",
       "2000-01-01     59359.0\n",
       "2001-01-01     39599.0\n",
       "2002-01-01     69130.0\n",
       "2003-01-01    129892.0\n",
       "2004-01-01    135748.0\n",
       "2005-01-01    118272.0\n",
       "2006-01-01    131114.0\n",
       "2007-01-01    190386.0\n",
       "2008-01-01    187517.0\n",
       "2009-01-01    234064.0\n",
       "2010-01-01    198994.0\n",
       "2011-01-01    224349.0\n",
       "2012-01-01    279996.0\n",
       "2013-01-01    270387.0\n",
       "2014-01-01    331440.0\n",
       "2015-01-01    273294.0\n",
       "2016-01-01    582887.0\n",
       "2017-01-01    505088.0\n",
       "2018-01-01    472299.0\n",
       "2019-01-01    259297.0\n",
       "2020-01-01    336204.0\n",
       "2021-01-01    439265.0\n",
       "2022-01-01     15112.0\n",
       "Name: ACRES, dtype: float64"
      ]
     },
     "execution_count": 138,
     "metadata": {},
     "output_type": "execute_result"
    }
   ],
   "source": [
    "# Completed activity acres by year, not yet including calfire_calmapper_df, calfire_rx_df\n",
    "round(usfs_th_hft_ca_calfire_th_ntmp_clean_84_to_pres_completed_df.groupby(['COMPLETED'])['ACRES'].sum(),0)"
   ]
  },
  {
   "cell_type": "code",
   "execution_count": 229,
   "id": "4211a343-aa84-4599-9a45-d781b52cf645",
   "metadata": {
    "tags": []
   },
   "outputs": [],
   "source": [
    "# # Todo\n",
    "# ## Fix geometries and add a column that notes if they've been fixed, remove NoneTypes, then try this again.\n",
    "\n",
    "# usfs_th_df_val = usfs_th_df \n",
    "# usfs_th_df_val['VALIDATED'] = ''\n",
    "\n",
    "# for idx, row in usfs_th_df_val.iterrows():\n",
    "#     g = row['geometry']\n",
    "#     if isinstance(g, type(None)):\n",
    "#         usfs_th_df_val.drop(index=idx)\n",
    "#     elif g.is_valid == False:\n",
    "#         usfs_th_df_val.iat[idx, 68] = make_valid(g)\n",
    "#         usfs_th_df_val.iat[idx, 69] = 1\n",
    "#     else:\n",
    "#         usfs_th_df_val.iat[idx, 69] = 0\n",
    "    \n",
    "\n",
    "# # res_union = ca_df.overlay(usfs_th_df, how='union')\n",
    "# # res_union\n",
    "\n",
    "# # Done\n",
    "# ## Select USFS projects in CA only\n",
    "# ## Filter USFS sets to Calif. only"
   ]
  },
  {
   "cell_type": "code",
   "execution_count": 27,
   "id": "fde18ba0-ca69-47cd-83d2-3b8d5dc096c8",
   "metadata": {},
   "outputs": [],
   "source": [
    "# s = usfs_th_df.is_valid\n",
    "\n",
    "# with open(\"is_valid.txt\", \"a\") as o:\n",
    "#     o.write(str(s))\n",
    "\n",
    "for idx, row in usfs_th_df.iterrows():\n",
    "    g = row['geometry']\n",
    "    with open('is_valid.txt', 'a') as o:\n",
    "        if isinstance(g, type(None)):\n",
    "            o.write(str(idx) + ', NoneType\\n')\n",
    "        elif g.is_valid == False:\n",
    "            make_valid(g)\n",
    "            o.write(str(idx) + ', ' + str(make_valid(g)) + '\\n')\n",
    "        else:\n",
    "            o.write(str(idx) + ', already valid\\n')\n",
    "\n",
    "    # print(row['geometry'])\n",
    "    # with open(\"is_valid.txt\", \"a\") as o:\n",
    "    #     if isinstance(row['geometry'], type(None)):\n",
    "    #         o.write(\"NoneType\")\n",
    "    #     else:\n",
    "    #         o.write(str(idx) + \", \" + str(row['geometry'].is_valid))"
   ]
  }
 ],
 "metadata": {
  "kernelspec": {
   "display_name": "Python 3 (ipykernel)",
   "language": "python",
   "name": "python3"
  },
  "language_info": {
   "codemirror_mode": {
    "name": "ipython",
    "version": 3
   },
   "file_extension": ".py",
   "mimetype": "text/x-python",
   "name": "python",
   "nbconvert_exporter": "python",
   "pygments_lexer": "ipython3",
   "version": "3.9.10"
  }
 },
 "nbformat": 4,
 "nbformat_minor": 5
}
